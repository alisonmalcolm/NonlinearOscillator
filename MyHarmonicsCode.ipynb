{
 "cells": [
  {
   "cell_type": "code",
   "execution_count": 30,
   "metadata": {},
   "outputs": [],
   "source": [
    "from sympy import Function, Eq, pde_separate_mul, Derivative as D\n",
    "from sympy.abc import x, t,c\n"
   ]
  },
  {
   "cell_type": "markdown",
   "metadata": {},
   "source": [
    "First let's the 1D wave equation on a string of length $\\pi$, with forcing at one end at frequency $\\omega_0$, with the other end free, i.e. let's solve:\n",
    "\n",
    "$$\n",
    " \\partial_x^2 u(x,t) - c^2 \\partial_t^2 u(x,t) = 0\n",
    "$$\n",
    "\n",
    "with boundary conditions\n",
    "\n",
    "$$\n",
    "u(0,t) = \\cos(\\omega_0 t)\n",
    "$$\n",
    "$$\n",
    "u(\\pi,t)=0\n",
    "$$\n",
    "$$\n",
    "u(x,0)=\\partial_t u(x,0)=0\n",
    "$$\n",
    "\n",
    "Note that this is quite close to the DAET experiment aside from that experiment being on a cylinder and not a string."
   ]
  },
  {
   "cell_type": "code",
   "execution_count": 40,
   "metadata": {},
   "outputs": [],
   "source": [
    "u, X, T = map(Function, 'uXT') #This sets up a function to somehow allow us to get u(x,t)=X(x)T(t)\n",
    "eq = Eq(D(c**2* u(x, t), x, 2), D(u(x, t), t, 2)) #sets up the equation with RHS, LHS\n",
    "Eq1,Eq2=pde_separate_mul(eq, u(x, t), [X(x), T(t)]) #Separate the variables"
   ]
  },
  {
   "cell_type": "markdown",
   "metadata": {},
   "source": [
    "Now let's just print the resulting separated equations, i.e. we are going to apply separation of variables in steps:"
   ]
  },
  {
   "cell_type": "code",
   "execution_count": 41,
   "metadata": {},
   "outputs": [
    {
     "data": {
      "text/latex": [
       "$\\displaystyle \\frac{\\frac{d^{2}}{d x^{2}} X{\\left(x \\right)}}{X{\\left(x \\right)}}$"
      ],
      "text/plain": [
       "Derivative(X(x), (x, 2))/X(x)"
      ]
     },
     "execution_count": 41,
     "metadata": {},
     "output_type": "execute_result"
    }
   ],
   "source": [
    "Eq1"
   ]
  },
  {
   "cell_type": "code",
   "execution_count": 42,
   "metadata": {},
   "outputs": [
    {
     "data": {
      "text/latex": [
       "$\\displaystyle \\frac{\\frac{d^{2}}{d t^{2}} T{\\left(t \\right)}}{c^{2} T{\\left(t \\right)}}$"
      ],
      "text/plain": [
       "Derivative(T(t), (t, 2))/(c**2*T(t))"
      ]
     },
     "execution_count": 42,
     "metadata": {},
     "output_type": "execute_result"
    }
   ],
   "source": [
    "Eq2"
   ]
  },
  {
   "cell_type": "markdown",
   "metadata": {},
   "source": [
    "As we can find in any PDE book, we have successfully found our two ODEs to solve.  Now before we solve them, we have to figure out what the constant will be etc.  So let's set that up step-by-step.\n",
    "\n",
    "1. First we setup the RHS of the first equation:"
   ]
  },
  {
   "cell_type": "code",
   "execution_count": 65,
   "metadata": {},
   "outputs": [
    {
     "data": {
      "text/latex": [
       "$\\displaystyle \\frac{\\frac{d^{2}}{d x^{2}} X{\\left(x \\right)}}{X{\\left(x \\right)}} = \\lambda$"
      ],
      "text/plain": [
       "Eq(Derivative(X(x), (x, 2))/X(x), lambda)"
      ]
     },
     "execution_count": 65,
     "metadata": {},
     "output_type": "execute_result"
    }
   ],
   "source": [
    "lam=symbols('lambda')\n",
    "Eq12=Eq(Eq1,lam)\n",
    "Eq12"
   ]
  },
  {
   "cell_type": "markdown",
   "metadata": {},
   "source": [
    "2. Now we do the same for the second equation"
   ]
  },
  {
   "cell_type": "code",
   "execution_count": 44,
   "metadata": {},
   "outputs": [
    {
     "data": {
      "text/latex": [
       "$\\displaystyle \\frac{\\frac{d^{2}}{d t^{2}} T{\\left(t \\right)}}{c^{2} T{\\left(t \\right)}} = \\lambda$"
      ],
      "text/plain": [
       "Eq(Derivative(T(t), (t, 2))/(c**2*T(t)), lambda)"
      ]
     },
     "execution_count": 44,
     "metadata": {},
     "output_type": "execute_result"
    }
   ],
   "source": [
    "Eq22=Eq(Eq2,lam)\n",
    "Eq22"
   ]
  },
  {
   "cell_type": "markdown",
   "metadata": {},
   "source": [
    "Now we know that we should assume $\\lambda>0$ but to be complete, let's determine that, by first checking what happens if $\\lambda=0$ and we apply our boundary conditions.  So if $\\lambda=0$ we have that"
   ]
  },
  {
   "cell_type": "code",
   "execution_count": 54,
   "metadata": {},
   "outputs": [
    {
     "data": {
      "text/latex": [
       "$\\displaystyle T{\\left(t \\right)} = C_{1} + C_{2} t$"
      ],
      "text/plain": [
       "Eq(T(t), C1 + C2*t)"
      ]
     },
     "execution_count": 54,
     "metadata": {},
     "output_type": "execute_result"
    }
   ],
   "source": [
    "Eq220=Eq(Eq2,0)\n",
    "sol20=dsolve(Eq220,T(t))\n",
    "sol20"
   ]
  },
  {
   "cell_type": "markdown",
   "metadata": {},
   "source": [
    "If we insert the BC that $u(x,0)=u_t(x,0)=0$ we have that $C_1=C_2=0$ which is a trivial solution, so we eliminate $\\lambda=0$.  \n",
    "\n",
    "If we let $\\lambda>0$, we have that"
   ]
  },
  {
   "cell_type": "code",
   "execution_count": 70,
   "metadata": {},
   "outputs": [
    {
     "data": {
      "text/latex": [
       "$\\displaystyle T{\\left(t \\right)} = C_{1} e^{- c \\lambda t} + C_{2} e^{c \\lambda t}$"
      ],
      "text/plain": [
       "Eq(T(t), C1*exp(-c*lambda*t) + C2*exp(c*lambda*t))"
      ]
     },
     "execution_count": 70,
     "metadata": {},
     "output_type": "execute_result"
    }
   ],
   "source": [
    "Eq220=Eq(Eq2,lam**2)\n",
    "sol20=dsolve(Eq220,T(t))\n",
    "sol20"
   ]
  },
  {
   "cell_type": "markdown",
   "metadata": {},
   "source": [
    "Applying the same BC we see that for $u(x,0)=0$ we need $C_1=-C_2$ and for $u_t(x,0)=0$ we need that $C_1=C_2$ which means that $C_1=C_2=0$.  Now we need that $\\lambda<0$ so we plug that in and get:"
   ]
  },
  {
   "cell_type": "code",
   "execution_count": 71,
   "metadata": {},
   "outputs": [
    {
     "data": {
      "text/latex": [
       "$\\displaystyle T{\\left(t \\right)} = C_{1} e^{- i c \\lambda t} + C_{2} e^{i c \\lambda t}$"
      ],
      "text/plain": [
       "Eq(T(t), C1*exp(-I*c*lambda*t) + C2*exp(I*c*lambda*t))"
      ]
     },
     "execution_count": 71,
     "metadata": {},
     "output_type": "execute_result"
    }
   ],
   "source": [
    "Eq220=Eq(Eq2,-lam**2)\n",
    "sol20=dsolve(Eq220,T(t))\n",
    "sol20"
   ]
  },
  {
   "cell_type": "markdown",
   "metadata": {},
   "source": [
    "Now if we set $u(x,0)=0$ we get that $C_1+C_2=0$ and if we set $\\partial_t u(x,0)=0$ we get that "
   ]
  },
  {
   "cell_type": "markdown",
   "metadata": {},
   "source": [
    "Now we get the general solution to each equation"
   ]
  },
  {
   "cell_type": "code",
   "execution_count": 48,
   "metadata": {},
   "outputs": [
    {
     "data": {
      "text/latex": [
       "$\\displaystyle X{\\left(x \\right)} = C_{1} e^{- \\sqrt{\\lambda} x} + C_{2} e^{\\sqrt{\\lambda} x}$"
      ],
      "text/plain": [
       "Eq(X(x), C1*exp(-sqrt(lambda)*x) + C2*exp(sqrt(lambda)*x))"
      ]
     },
     "execution_count": 48,
     "metadata": {},
     "output_type": "execute_result"
    }
   ],
   "source": [
    "dsolve(Eq12,X(x))\n"
   ]
  },
  {
   "cell_type": "code",
   "execution_count": 49,
   "metadata": {},
   "outputs": [
    {
     "data": {
      "text/latex": [
       "$\\displaystyle T{\\left(t \\right)} = C_{1} e^{- c \\sqrt{\\lambda} t} + C_{2} e^{c \\sqrt{\\lambda} t}$"
      ],
      "text/plain": [
       "Eq(T(t), C1*exp(-c*sqrt(lambda)*t) + C2*exp(c*sqrt(lambda)*t))"
      ]
     },
     "execution_count": 49,
     "metadata": {},
     "output_type": "execute_result"
    }
   ],
   "source": [
    "dsolve(Eq22,T(t))"
   ]
  }
 ],
 "metadata": {
  "kernelspec": {
   "display_name": "Python 3",
   "language": "python",
   "name": "python3"
  },
  "language_info": {
   "codemirror_mode": {
    "name": "ipython",
    "version": 3
   },
   "file_extension": ".py",
   "mimetype": "text/x-python",
   "name": "python",
   "nbconvert_exporter": "python",
   "pygments_lexer": "ipython3",
   "version": "3.7.6"
  }
 },
 "nbformat": 4,
 "nbformat_minor": 4
}
